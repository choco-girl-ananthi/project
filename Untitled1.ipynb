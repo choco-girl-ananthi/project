{
  "nbformat": 4,
  "nbformat_minor": 0,
  "metadata": {
    "colab": {
      "provenance": [],
      "authorship_tag": "ABX9TyNeaxikOm0fewDzsIdA/LzQ",
      "include_colab_link": true
    },
    "kernelspec": {
      "name": "python3",
      "display_name": "Python 3"
    },
    "language_info": {
      "name": "python"
    }
  },
  "cells": [
    {
      "cell_type": "markdown",
      "metadata": {
        "id": "view-in-github",
        "colab_type": "text"
      },
      "source": [
        "<a href=\"https://colab.research.google.com/github/choco-girl-ananthi/project/blob/main/Untitled1.ipynb\" target=\"_parent\"><img src=\"https://colab.research.google.com/assets/colab-badge.svg\" alt=\"Open In Colab\"/></a>"
      ]
    },
    {
      "cell_type": "code",
      "source": [
        "import nltk\n",
        "from nltk.sentiment.vader import SentimentIntensityAnalyzer\n",
        "\n",
        "# Download the VADER lexicon if not already downloaded\n",
        "nltk.download('vader_lexicon')\n",
        "\n",
        "def analyze_sentiment(text):\n",
        "    # Create a SentimentIntensityAnalyzer object\n",
        "    sia = SentimentIntensityAnalyzer()\n",
        "\n",
        "    # Get sentiment scores\n",
        "    sentiment_scores = sia.polarity_scores(text)\n",
        "\n",
        "    # Determine sentiment label based on compound score\n",
        "    if sentiment_scores['compound'] >= 0.05:\n",
        "        return \"Positive\"\n",
        "    elif sentiment_scores['compound'] <= -0.05:\n",
        "        return \"Negative\"\n",
        "    else:\n",
        "        return \"Neutral\"\n",
        "\n",
        "def main():\n",
        "    text = input(\"Enter the text you want to analyze: \")\n",
        "    sentiment = analyze_sentiment(text)\n",
        "    print(\"Sentiment:\", sentiment)\n",
        "\n",
        "if __name__ == \"__main__\":\n",
        "    main()\n"
      ],
      "metadata": {
        "colab": {
          "base_uri": "https://localhost:8080/"
        },
        "id": "Jrrn5zwC6pHE",
        "outputId": "94bb8143-2000-47c7-8285-6cbf107a68d6"
      },
      "execution_count": 9,
      "outputs": [
        {
          "output_type": "stream",
          "name": "stderr",
          "text": [
            "[nltk_data] Downloading package vader_lexicon to /root/nltk_data...\n",
            "[nltk_data]   Package vader_lexicon is already up-to-date!\n"
          ]
        },
        {
          "output_type": "stream",
          "name": "stdout",
          "text": [
            "Enter the text you want to analyze: this app is so useful to me\n",
            "Sentiment: Positive\n"
          ]
        }
      ]
    }
  ]
}